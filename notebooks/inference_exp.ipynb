{
 "cells": [
  {
   "cell_type": "code",
   "execution_count": 12,
   "id": "0696b108",
   "metadata": {},
   "outputs": [],
   "source": [
    "import catboost as cb\n",
    "import pandas as pd\n",
    "import numpy as np\n",
    "import sys\n",
    "\n",
    "sys.path.append('/home/sultanan/energy')\n",
    "from energy_pred import (\n",
    "    GicaHackDataLoader,\n",
    ")"
   ]
  },
  {
   "cell_type": "code",
   "execution_count": 2,
   "id": "73142209",
   "metadata": {},
   "outputs": [
    {
     "name": "stdout",
     "output_type": "stream",
     "text": [
      "\n",
      "Loading model from: /home/sultanan/energy/notebooks/catboost_models/energy_forecast_model.cbm\n"
     ]
    },
    {
     "data": {
      "text/plain": [
       "<catboost.core.CatBoostRegressor at 0x74e8e4f746e0>"
      ]
     },
     "execution_count": 2,
     "metadata": {},
     "output_type": "execute_result"
    }
   ],
   "source": [
    "loaded_model = cb.CatBoostRegressor()\n",
    "model_path = \"/home/sultanan/energy/notebooks/catboost_models/energy_forecast_model.cbm\"\n",
    "# Then, load the saved state into the new instance.\n",
    "print(f\"\\nLoading model from: {model_path}\")\n",
    "loaded_model.load_model(model_path)"
   ]
  },
  {
   "cell_type": "code",
   "execution_count": 3,
   "id": "c08c44b6",
   "metadata": {},
   "outputs": [
    {
     "name": "stdout",
     "output_type": "stream",
     "text": [
      "Skipping empty file: 03.06.2025 06_00_All measuring points_ExportFile.csv\n",
      "Skipping empty file: 03.06.2025 18_01_All measuring points_ExportFile.csv\n",
      "Skipping empty file: 04.06.2025 06_00_All measuring points_ExportFile.csv\n",
      "Concatenated shape: (2254330, 5)\n"
     ]
    }
   ],
   "source": [
    "\n",
    "DATA_DIR = '/home/sultanan/datasets/energy/GicaHack'\n",
    "loader = GicaHackDataLoader(DATA_DIR, verbose=True)\n",
    "loader.load()\n",
    "raw_df = loader.get_raw()"
   ]
  },
  {
   "cell_type": "code",
   "execution_count": 4,
   "metadata": {},
   "outputs": [],
   "source": [
    "def preprocess_and_normalize_consumption(raw_df):\n",
    "    \"\"\"\n",
    "    Normalizes raw smart meter data by distributing accumulated consumption\n",
    "    over a consistent 15-minute frequency, then aggregates to a final\n",
    "    hourly median across all meters.\n",
    "\n",
    "    Args:\n",
    "        raw_df (pd.DataFrame): DataFrame with columns ['timestamp', 'meter', 'import_diff']\n",
    "                               where 'timestamp' can have variable time gaps.\n",
    "\n",
    "    Returns:\n",
    "        pd.DataFrame: A DataFrame indexed by the hour, with a single column\n",
    "                      containing the median hourly energy consumption.\n",
    "    \"\"\"\n",
    "    # Ensure timestamp column is in datetime format\n",
    "    raw_df['timestamp'] = pd.to_datetime(raw_df['timestamp'])\n",
    "\n",
    "    def normalize_meter_data(df_meter):\n",
    "        \"\"\"\n",
    "        Processes data for a single meter. This function is intended to be\n",
    "        used with pandas' .groupby().apply().\n",
    "        \"\"\"\n",
    "        # Set timestamp as index and sort to ensure correct time delta calculation\n",
    "        df_meter = df_meter.sort_values('timestamp').set_index('timestamp')\n",
    "\n",
    "        # FIX: Aggregate duplicate timestamps before resampling\n",
    "        if df_meter.index.has_duplicates:\n",
    "            df_meter = df_meter.groupby(df_meter.index).mean()\n",
    "\n",
    "        # 1. Calculate time difference (in minutes) between consecutive readings\n",
    "        time_deltas = df_meter.index.to_series().diff().dt.total_seconds() / 60.0\n",
    "\n",
    "        # 2. Determine how many 15-minute \"bins\" each reading represents\n",
    "        num_bins = (time_deltas / 15.0).fillna(1).replace(0, 1)\n",
    "\n",
    "        # 3. Normalize the consumption by the number of bins\n",
    "        df_meter['normalized_diff'] = df_meter['import_diff'] / num_bins\n",
    "\n",
    "        # 4. Resample to a consistent 15-minute frequency and forward-fill\n",
    "        df_resampled = df_meter[['normalized_diff']].resample('15min').ffill()\n",
    "        \n",
    "        return df_resampled\n",
    "\n",
    "    print(\"Step 1: Normalizing data for each meter to a 15-minute frequency...\")\n",
    "    df_normalized = raw_df.groupby('meter').apply(normalize_meter_data)\n",
    "\n",
    "    print(\"Step 2: Aggregating to final hourly median...\")\n",
    "    df_normalized = df_normalized.reset_index()\n",
    "    \n",
    "    # --- MODIFIED LOGIC STARTS HERE ---\n",
    "    \n",
    "    df_normalized = df_normalized.set_index('timestamp')\n",
    "    \n",
    "    # Step A: Discretize to hourly data for EACH meter by SUMMING the 15-min values.\n",
    "    # This calculates the total consumption for each hour for each meter.\n",
    "    df_hourly_per_meter = df_normalized.groupby('meter').resample('H')['normalized_diff'].sum()\n",
    "    \n",
    "    # Reset the index so we can group by the hourly timestamp\n",
    "    df_hourly_per_meter = df_hourly_per_meter.reset_index()\n",
    "    \n",
    "    # Step B: Finally, get the median of these hourly consumptions across all meters.\n",
    "    df_final = df_hourly_per_meter.groupby('timestamp')['normalized_diff'].median()\n",
    "    \n",
    "    # --- MODIFIED LOGIC ENDS HERE ---\n",
    "    \n",
    "    # Return as a DataFrame with a clear column name\n",
    "    return df_final.to_frame(name='import_diff')"
   ]
  },
  {
   "cell_type": "code",
   "execution_count": 5,
   "id": "9c709714",
   "metadata": {},
   "outputs": [],
   "source": [
    "\n",
    "def create_advanced_features(df):\n",
    "    \"\"\"\n",
    "    Создает расширенные признаки из временного ряда с исправленной логикой\n",
    "    для категориальных переменных.\n",
    "    \"\"\"\n",
    "    df = df.copy()\n",
    "    \n",
    "    # --- ИСПРАВЛЕННАЯ ЛОГИКА ДЛЯ ВРЕМЕННЫХ ПРИЗНАКОВ ---\n",
    "    \n",
    "    # 1. Сначала извлекаем временные компоненты как ЧИСЛА\n",
    "    hour = df.index.hour\n",
    "    day_of_week = df.index.dayofweek  # 0=понедельник, 6=воскресенье\n",
    "    month = df.index.month\n",
    "    \n",
    "    # 2. Выполняем числовое сравнение для создания 'is_weekend'\n",
    "    is_weekend = (day_of_week >= 5).astype(int) # 1 для выходного, 0 для буднего\n",
    "    \n",
    "    # 3. Создаем остальные временные признаки\n",
    "    df['hour'] = hour\n",
    "    df['day_of_week'] = day_of_week\n",
    "    df['is_weekend'] = is_weekend\n",
    "    df['month'] = month\n",
    "    df['season'] = (month % 12 + 3) // 3  # 1=весна, 2=лето, 3=осень, 4=зима\n",
    "    \n",
    "    # 4. Теперь, когда все вычисления завершены, преобразуем в категориальный тип\n",
    "    # Это хорошая практика для CatBoost.\n",
    "    for col in ['hour', 'day_of_week', 'is_weekend', 'month', 'season']:\n",
    "        df[col] = df[col].astype('category')\n",
    "        \n",
    "    # --- КОНЕЦ ИСПРАВЛЕННОЙ ЛОГИКИ ---\n",
    "\n",
    "    # Лаговые признаки (значения за предыдущие периоды)\n",
    "    for lag in [1, 2, 3, 24, 48, 168]:  # 1-3 часа, сутки, двое суток, неделя\n",
    "        df[f'import_lag_{lag}'] = df['import_diff'].shift(lag)\n",
    "    \n",
    "    # Скользящие статистики\n",
    "    windows = [4, 8, 24, 72]  # 4 часа, 8 часов, сутки, трое суток\n",
    "    for window in windows:\n",
    "        df[f'rolling_mean_{window}'] = df['import_diff'].shift(1).rolling(window=window, min_periods=1).mean()\n",
    "        df[f'rolling_std_{window}'] = df['import_diff'].shift(1).rolling(window=window, min_periods=1).std()\n",
    "        df[f'rolling_max_{window}'] = df['import_diff'].shift(1).rolling(window=window, min_periods=1).max()\n",
    "    \n",
    "    # Признаки на основе погоды\n",
    "    df['temp_humidity_interaction'] = df['temperature'] * df['humidity']\n",
    "    df['comfort_index'] = df['temperature'] - 0.55 * (1 - df['humidity']/100) * (df['temperature'] - 14.5)\n",
    "    # weather rolling mean, std\n",
    "    for window in [3, 6, 12]:  # 3 часа, 6 часов, 12 часов\n",
    "        for feature in ['temperature', 'humidity', 'pressure']:\n",
    "            df[f'{feature}_rolling_mean_{window}'] = df[feature].shift(1).rolling(window=window, min_periods=1).mean()\n",
    "            df[f'{feature}_rolling_std_{window}'] = df[feature].shift(1).rolling(window=window, min_periods=1).std()\n",
    "\n",
    "    # Для периодических признаков используем синусоиды\n",
    "    df['hour_sin'] = np.sin(2 * np.pi * df['hour'].astype(int) / 24)\n",
    "    df['hour_cos'] = np.cos(2 * np.pi * df['hour'].astype(int) / 24)\n",
    "    df['day_of_week_sin'] = np.sin(2 * np.pi * df['day_of_week'].astype(int) / 7)\n",
    "    df['day_of_week_cos'] = np.cos(2 * np.pi * df['day_of_week'].astype(int) / 7)\n",
    "    df['month_sin'] = np.sin(2 * np.pi * df['month'].astype(int) / 12)\n",
    "    df['month_cos'] = np.cos(2 * np.pi * df['month'].astype(int) / 12)\n",
    "    df['temperature_sin'] = np.sin(2 * np.pi * df['temperature'] / df['temperature'].max())\n",
    "    df['temperature_cos'] = np.cos(2 * np.pi * df['temperature'] / df['temperature'].max())\n",
    "    df['humidity_sin'] = np.sin(2 * np.pi * df['humidity'] / 100)\n",
    "    df['humidity_cos'] = np.cos(2 * np.pi * df['humidity'] / 100)\n",
    "    df['pressure_sin'] = np.sin(2 * np.pi * df['pressure'] / df['pressure'].max())\n",
    "    df['pressure_cos'] = np.cos(2 * np.pi * df['pressure'] / df['pressure'].max())\n",
    "    \n",
    "    # Производные от давления\n",
    "    df['pressure_change'] = df['pressure'].diff()\n",
    "    df['pressure_trend'] = df['pressure'].rolling(window=6, min_periods=1).mean()\n",
    "    \n",
    "    # Удаляем строки с NaN (появились из-за лагов)\n",
    "    df = df.dropna()\n",
    "    \n",
    "    return df\n",
    "\n"
   ]
  },
  {
   "cell_type": "code",
   "execution_count": 6,
   "id": "8a447b0c",
   "metadata": {},
   "outputs": [],
   "source": [
    "import requests\n",
    "def add_weather_features(df, lat=47.01, lon=28.86, tz='Europe/Chisinau'):\n",
    "    df = pd.DataFrame(df)  # Ensure df is a DataFrame\n",
    "    \"\"\"Enriches a DataFrame with historical weather data from Open-Meteo.\"\"\"\n",
    "    if not isinstance(df.index, pd.DatetimeIndex):\n",
    "        raise ValueError(\"DataFrame index must be a DatetimeIndex.\")\n",
    "    \n",
    "    start_date = df.index.min().strftime('%Y-%m-%d')\n",
    "    end_date = df.index.max().strftime('%Y-%m-%d')\n",
    "    print(f\"Fetching weather data for Chișinău from {start_date} to {end_date}...\")\n",
    "    \n",
    "    api_url = (\n",
    "        \"https://archive-api.open-meteo.com/v1/archive?\"\n",
    "        f\"latitude={lat}&longitude={lon}&start_date={start_date}&end_date={end_date}\"\n",
    "        \"&hourly=temperature_2m,relative_humidity_2m,surface_pressure\"\n",
    "        f\"&timezone={tz}\"\n",
    "    )\n",
    "    response = requests.get(api_url)\n",
    "    response.raise_for_status() # Raises an exception for bad status codes\n",
    "    \n",
    "    weather_data = response.json()\n",
    "    df_weather = pd.DataFrame(data=weather_data['hourly'])\n",
    "    df_weather['time'] = pd.to_datetime(df_weather['time'])\n",
    "    df_weather = df_weather.set_index('time').rename(columns={\n",
    "        'temperature_2m': 'temperature', 'relative_humidity_2m': 'humidity', 'surface_pressure': 'pressure'\n",
    "    })\n",
    "    \n",
    "    df_merged = df.merge(df_weather, left_index=True, right_index=True, how='left')\n",
    "    return df_merged\n"
   ]
  },
  {
   "cell_type": "code",
   "execution_count": 7,
   "id": "e9069396",
   "metadata": {},
   "outputs": [
    {
     "name": "stdout",
     "output_type": "stream",
     "text": [
      "Step 1: Normalizing data for each meter to a 15-minute frequency...\n"
     ]
    },
    {
     "name": "stderr",
     "output_type": "stream",
     "text": [
      "/tmp/ipykernel_4192427/3239882581.py:45: FutureWarning: DataFrameGroupBy.apply operated on the grouping columns. This behavior is deprecated, and in a future version of pandas the grouping columns will be excluded from the operation. Either pass `include_groups=False` to exclude the groupings or explicitly select the grouping columns after groupby to silence this warning.\n",
      "  df_normalized = raw_df.groupby('meter').apply(normalize_meter_data)\n"
     ]
    },
    {
     "name": "stdout",
     "output_type": "stream",
     "text": [
      "Step 2: Aggregating to final hourly median...\n"
     ]
    },
    {
     "name": "stderr",
     "output_type": "stream",
     "text": [
      "/tmp/ipykernel_4192427/3239882581.py:56: FutureWarning: 'H' is deprecated and will be removed in a future version, please use 'h' instead.\n",
      "  df_hourly_per_meter = df_normalized.groupby('meter').resample('H')['normalized_diff'].sum()\n"
     ]
    }
   ],
   "source": [
    "clean_df = preprocess_and_normalize_consumption(raw_df)"
   ]
  },
  {
   "cell_type": "code",
   "execution_count": 8,
   "id": "f6bff5b5",
   "metadata": {},
   "outputs": [
    {
     "name": "stdout",
     "output_type": "stream",
     "text": [
      "Fetching weather data for Chișinău from 2024-10-01 to 2025-06-08...\n"
     ]
    }
   ],
   "source": [
    "clean_df = add_weather_features(pd.DataFrame(clean_df))"
   ]
  },
  {
   "cell_type": "code",
   "execution_count": 9,
   "id": "cdc444a8",
   "metadata": {},
   "outputs": [
    {
     "data": {
      "text/html": [
       "<div>\n",
       "<style scoped>\n",
       "    .dataframe tbody tr th:only-of-type {\n",
       "        vertical-align: middle;\n",
       "    }\n",
       "\n",
       "    .dataframe tbody tr th {\n",
       "        vertical-align: top;\n",
       "    }\n",
       "\n",
       "    .dataframe thead th {\n",
       "        text-align: right;\n",
       "    }\n",
       "</style>\n",
       "<table border=\"1\" class=\"dataframe\">\n",
       "  <thead>\n",
       "    <tr style=\"text-align: right;\">\n",
       "      <th></th>\n",
       "      <th>import_diff</th>\n",
       "      <th>temperature</th>\n",
       "      <th>humidity</th>\n",
       "      <th>pressure</th>\n",
       "    </tr>\n",
       "    <tr>\n",
       "      <th>timestamp</th>\n",
       "      <th></th>\n",
       "      <th></th>\n",
       "      <th></th>\n",
       "      <th></th>\n",
       "    </tr>\n",
       "  </thead>\n",
       "  <tbody>\n",
       "    <tr>\n",
       "      <th>2024-10-01 00:00:00</th>\n",
       "      <td>0.0</td>\n",
       "      <td>13.1</td>\n",
       "      <td>76</td>\n",
       "      <td>1004.1</td>\n",
       "    </tr>\n",
       "    <tr>\n",
       "      <th>2024-10-01 01:00:00</th>\n",
       "      <td>0.0</td>\n",
       "      <td>13.0</td>\n",
       "      <td>78</td>\n",
       "      <td>1004.2</td>\n",
       "    </tr>\n",
       "    <tr>\n",
       "      <th>2024-10-01 02:00:00</th>\n",
       "      <td>0.0</td>\n",
       "      <td>12.3</td>\n",
       "      <td>88</td>\n",
       "      <td>1004.3</td>\n",
       "    </tr>\n",
       "    <tr>\n",
       "      <th>2024-10-01 03:00:00</th>\n",
       "      <td>0.0</td>\n",
       "      <td>12.2</td>\n",
       "      <td>90</td>\n",
       "      <td>1003.7</td>\n",
       "    </tr>\n",
       "    <tr>\n",
       "      <th>2024-10-01 04:00:00</th>\n",
       "      <td>0.0</td>\n",
       "      <td>11.4</td>\n",
       "      <td>90</td>\n",
       "      <td>1004.3</td>\n",
       "    </tr>\n",
       "  </tbody>\n",
       "</table>\n",
       "</div>"
      ],
      "text/plain": [
       "                     import_diff  temperature  humidity  pressure\n",
       "timestamp                                                        \n",
       "2024-10-01 00:00:00          0.0         13.1        76    1004.1\n",
       "2024-10-01 01:00:00          0.0         13.0        78    1004.2\n",
       "2024-10-01 02:00:00          0.0         12.3        88    1004.3\n",
       "2024-10-01 03:00:00          0.0         12.2        90    1003.7\n",
       "2024-10-01 04:00:00          0.0         11.4        90    1004.3"
      ]
     },
     "execution_count": 9,
     "metadata": {},
     "output_type": "execute_result"
    }
   ],
   "source": [
    "clean_df.head()"
   ]
  },
  {
   "cell_type": "code",
   "execution_count": 13,
   "id": "5e4333b3",
   "metadata": {},
   "outputs": [
    {
     "name": "stdout",
     "output_type": "stream",
     "text": [
      "Размер данных после feature engineering: (5848, 61)\n"
     ]
    }
   ],
   "source": [
    "df_enriched = create_advanced_features(clean_df)\n",
    "print(f\"Размер данных после feature engineering: {df_enriched.shape}\")\n",
    "\n",
    "X = df_enriched.drop('import_diff', axis=1)"
   ]
  },
  {
   "cell_type": "code",
   "execution_count": 15,
   "id": "46789c62",
   "metadata": {},
   "outputs": [],
   "source": [
    "y_pred = loaded_model.predict(X)"
   ]
  },
  {
   "cell_type": "code",
   "execution_count": 17,
   "id": "4fe75a47",
   "metadata": {},
   "outputs": [
    {
     "data": {
      "image/png": "[encoded data removed]",
      "text/plain": [
       "<Figure size 1200x600 with 1 Axes>"
      ]
     },
     "metadata": {},
     "output_type": "display_data"
    }
   ],
   "source": [
    "# plot y_pred\n",
    "import matplotlib.pyplot as plt\n",
    "\n",
    "plt.figure(figsize=(12, 6))\n",
    "plt.plot(y_pred, label='Predicted Consumption', color='orange')\n",
    "plt.title('Predicted Energy Consumption')\n",
    "plt.xlabel('Time')\n",
    "plt.ylabel('Energy Consumption (kWh)')\n",
    "plt.legend()\n",
    "plt.show()"
   ]
  },
  {
   "cell_type": "code",
   "execution_count": 21,
   "id": "95e62523",
   "metadata": {},
   "outputs": [
    {
     "data": {
      "text/plain": [
       "<matplotlib.collections.PathCollection at 0x74e8e4e674d0>"
      ]
     },
     "execution_count": 21,
     "metadata": {},
     "output_type": "execute_result"
    },
    {
     "data": {
      "image/png": "[encoded data removed]",
      "text/plain": [
       "<Figure size 640x480 with 1 Axes>"
      ]
     },
     "metadata": {},
     "output_type": "display_data"
    }
   ],
   "source": [
    "y_pred_pd = pd.Series(y_pred, index=X.index)\n",
    "peak_threshold = y_pred_pd.quantile(0.9)\n",
    "peak_indices = y_pred_pd[y_pred_pd > peak_threshold].index\n",
    "plt.scatter(peak_indices, y_pred_pd[peak_indices], color='orange', s=50, \n",
    "           label=f'Пики (> {peak_threshold:.1f})', zorder=5)"
   ]
  },
  {
   "cell_type": "code",
   "execution_count": null,
   "metadata": {},
   "outputs": [],
   "source": []
  },
  {
   "cell_type": "code",
   "execution_count": 2,
   "metadata": {},
   "outputs": [],
   "source": [
    "import pandas as pd\n",
    "import requests\n",
    "def get_weather_forecast(future_steps: int, lat: float = 47.01, lon: float = 28.86, tz: str = 'Europe/Chisinau') -> pd.DataFrame:\n",
    "    \"\"\"\n",
    "    Fetches hourly weather forecast data from Open-Meteo.\n",
    "    \"\"\"\n",
    "    print(f\"Fetching weather forecast for the next {future_steps} hours...\")\n",
    "    \n",
    "    api_url = (\n",
    "        \"https://api.open-meteo.com/v1/forecast?\"\n",
    "        f\"latitude={lat}&longitude={lon}&hourly=temperature_2m,relative_humidity_2m,surface_pressure\"\n",
    "        f\"&forecast_hours={future_steps}&timezone={tz}\"\n",
    "    )\n",
    "    response = requests.get(api_url)\n",
    "    response.raise_for_status()\n",
    "    \n",
    "    weather_data = response.json()['hourly']\n",
    "    df_weather = pd.DataFrame(data=weather_data)\n",
    "    df_weather['time'] = pd.to_datetime(df_weather['time'])\n",
    "    df_weather = df_weather.set_index('time').rename(columns={\n",
    "        'temperature_2m': 'temperature', \n",
    "        'relative_humidity_2m': 'humidity', \n",
    "        'surface_pressure': 'pressure'\n",
    "    })\n",
    "    return df_weather\n",
    "\n"
   ]
  },
  {
   "cell_type": "code",
   "execution_count": 3,
   "id": "d9c33302",
   "metadata": {},
   "outputs": [
    {
     "name": "stdout",
     "output_type": "stream",
     "text": [
      "Fetching weather forecast for the next 24 hours...\n"
     ]
    },
    {
     "data": {
      "text/html": [
       "<div>\n",
       "<style scoped>\n",
       "    .dataframe tbody tr th:only-of-type {\n",
       "        vertical-align: middle;\n",
       "    }\n",
       "\n",
       "    .dataframe tbody tr th {\n",
       "        vertical-align: top;\n",
       "    }\n",
       "\n",
       "    .dataframe thead th {\n",
       "        text-align: right;\n",
       "    }\n",
       "</style>\n",
       "<table border=\"1\" class=\"dataframe\">\n",
       "  <thead>\n",
       "    <tr style=\"text-align: right;\">\n",
       "      <th></th>\n",
       "      <th>temperature</th>\n",
       "      <th>humidity</th>\n",
       "      <th>pressure</th>\n",
       "    </tr>\n",
       "    <tr>\n",
       "      <th>time</th>\n",
       "      <th></th>\n",
       "      <th></th>\n",
       "      <th></th>\n",
       "    </tr>\n",
       "  </thead>\n",
       "  <tbody>\n",
       "    <tr>\n",
       "      <th>2025-09-13 21:00:00</th>\n",
       "      <td>21.5</td>\n",
       "      <td>46</td>\n",
       "      <td>1019.9</td>\n",
       "    </tr>\n",
       "    <tr>\n",
       "      <th>2025-09-13 22:00:00</th>\n",
       "      <td>20.4</td>\n",
       "      <td>52</td>\n",
       "      <td>1020.0</td>\n",
       "    </tr>\n",
       "    <tr>\n",
       "      <th>2025-09-13 23:00:00</th>\n",
       "      <td>19.4</td>\n",
       "      <td>57</td>\n",
       "      <td>1020.5</td>\n",
       "    </tr>\n",
       "    <tr>\n",
       "      <th>2025-09-14 00:00:00</th>\n",
       "      <td>18.4</td>\n",
       "      <td>60</td>\n",
       "      <td>1020.4</td>\n",
       "    </tr>\n",
       "    <tr>\n",
       "      <th>2025-09-14 01:00:00</th>\n",
       "      <td>17.5</td>\n",
       "      <td>63</td>\n",
       "      <td>1020.9</td>\n",
       "    </tr>\n",
       "    <tr>\n",
       "      <th>2025-09-14 02:00:00</th>\n",
       "      <td>16.7</td>\n",
       "      <td>66</td>\n",
       "      <td>1020.9</td>\n",
       "    </tr>\n",
       "    <tr>\n",
       "      <th>2025-09-14 03:00:00</th>\n",
       "      <td>16.0</td>\n",
       "      <td>68</td>\n",
       "      <td>1020.8</td>\n",
       "    </tr>\n",
       "    <tr>\n",
       "      <th>2025-09-14 04:00:00</th>\n",
       "      <td>15.4</td>\n",
       "      <td>72</td>\n",
       "      <td>1020.3</td>\n",
       "    </tr>\n",
       "    <tr>\n",
       "      <th>2025-09-14 05:00:00</th>\n",
       "      <td>15.0</td>\n",
       "      <td>77</td>\n",
       "      <td>1020.1</td>\n",
       "    </tr>\n",
       "    <tr>\n",
       "      <th>2025-09-14 06:00:00</th>\n",
       "      <td>14.4</td>\n",
       "      <td>82</td>\n",
       "      <td>1020.0</td>\n",
       "    </tr>\n",
       "    <tr>\n",
       "      <th>2025-09-14 07:00:00</th>\n",
       "      <td>14.0</td>\n",
       "      <td>85</td>\n",
       "      <td>1020.2</td>\n",
       "    </tr>\n",
       "    <tr>\n",
       "      <th>2025-09-14 08:00:00</th>\n",
       "      <td>15.0</td>\n",
       "      <td>84</td>\n",
       "      <td>1020.4</td>\n",
       "    </tr>\n",
       "    <tr>\n",
       "      <th>2025-09-14 09:00:00</th>\n",
       "      <td>16.7</td>\n",
       "      <td>73</td>\n",
       "      <td>1020.5</td>\n",
       "    </tr>\n",
       "    <tr>\n",
       "      <th>2025-09-14 10:00:00</th>\n",
       "      <td>18.5</td>\n",
       "      <td>63</td>\n",
       "      <td>1020.4</td>\n",
       "    </tr>\n",
       "    <tr>\n",
       "      <th>2025-09-14 11:00:00</th>\n",
       "      <td>20.3</td>\n",
       "      <td>48</td>\n",
       "      <td>1020.0</td>\n",
       "    </tr>\n",
       "    <tr>\n",
       "      <th>2025-09-14 12:00:00</th>\n",
       "      <td>21.4</td>\n",
       "      <td>41</td>\n",
       "      <td>1019.4</td>\n",
       "    </tr>\n",
       "    <tr>\n",
       "      <th>2025-09-14 13:00:00</th>\n",
       "      <td>22.3</td>\n",
       "      <td>36</td>\n",
       "      <td>1018.6</td>\n",
       "    </tr>\n",
       "    <tr>\n",
       "      <th>2025-09-14 14:00:00</th>\n",
       "      <td>22.9</td>\n",
       "      <td>35</td>\n",
       "      <td>1017.8</td>\n",
       "    </tr>\n",
       "    <tr>\n",
       "      <th>2025-09-14 15:00:00</th>\n",
       "      <td>23.2</td>\n",
       "      <td>35</td>\n",
       "      <td>1017.2</td>\n",
       "    </tr>\n",
       "    <tr>\n",
       "      <th>2025-09-14 16:00:00</th>\n",
       "      <td>23.0</td>\n",
       "      <td>39</td>\n",
       "      <td>1016.4</td>\n",
       "    </tr>\n",
       "    <tr>\n",
       "      <th>2025-09-14 17:00:00</th>\n",
       "      <td>22.5</td>\n",
       "      <td>38</td>\n",
       "      <td>1015.8</td>\n",
       "    </tr>\n",
       "    <tr>\n",
       "      <th>2025-09-14 18:00:00</th>\n",
       "      <td>21.6</td>\n",
       "      <td>38</td>\n",
       "      <td>1015.5</td>\n",
       "    </tr>\n",
       "    <tr>\n",
       "      <th>2025-09-14 19:00:00</th>\n",
       "      <td>20.1</td>\n",
       "      <td>39</td>\n",
       "      <td>1015.7</td>\n",
       "    </tr>\n",
       "    <tr>\n",
       "      <th>2025-09-14 20:00:00</th>\n",
       "      <td>18.3</td>\n",
       "      <td>46</td>\n",
       "      <td>1016.0</td>\n",
       "    </tr>\n",
       "  </tbody>\n",
       "</table>\n",
       "</div>"
      ],
      "text/plain": [
       "                     temperature  humidity  pressure\n",
       "time                                                \n",
       "2025-09-13 21:00:00         21.5        46    1019.9\n",
       "2025-09-13 22:00:00         20.4        52    1020.0\n",
       "2025-09-13 23:00:00         19.4        57    1020.5\n",
       "2025-09-14 00:00:00         18.4        60    1020.4\n",
       "2025-09-14 01:00:00         17.5        63    1020.9\n",
       "2025-09-14 02:00:00         16.7        66    1020.9\n",
       "2025-09-14 03:00:00         16.0        68    1020.8\n",
       "2025-09-14 04:00:00         15.4        72    1020.3\n",
       "2025-09-14 05:00:00         15.0        77    1020.1\n",
       "2025-09-14 06:00:00         14.4        82    1020.0\n",
       "2025-09-14 07:00:00         14.0        85    1020.2\n",
       "2025-09-14 08:00:00         15.0        84    1020.4\n",
       "2025-09-14 09:00:00         16.7        73    1020.5\n",
       "2025-09-14 10:00:00         18.5        63    1020.4\n",
       "2025-09-14 11:00:00         20.3        48    1020.0\n",
       "2025-09-14 12:00:00         21.4        41    1019.4\n",
       "2025-09-14 13:00:00         22.3        36    1018.6\n",
       "2025-09-14 14:00:00         22.9        35    1017.8\n",
       "2025-09-14 15:00:00         23.2        35    1017.2\n",
       "2025-09-14 16:00:00         23.0        39    1016.4\n",
       "2025-09-14 17:00:00         22.5        38    1015.8\n",
       "2025-09-14 18:00:00         21.6        38    1015.5\n",
       "2025-09-14 19:00:00         20.1        39    1015.7\n",
       "2025-09-14 20:00:00         18.3        46    1016.0"
      ]
     },
     "execution_count": 3,
     "metadata": {},
     "output_type": "execute_result"
    }
   ],
   "source": [
    "get_weather_forecast(24)"
   ]
  }
 ],
 "metadata": {
  "kernelspec": {
   "display_name": "energy",
   "language": "python",
   "name": "python3"
  },
  "language_info": {
   "codemirror_mode": {
    "name": "ipython",
    "version": 3
   },
   "file_extension": ".py",
   "mimetype": "text/x-python",
   "name": "python",
   "nbconvert_exporter": "python",
   "pygments_lexer": "ipython3",
   "version": "3.13.7"
  }
 },
 "nbformat": 4,
 "nbformat_minor": 5
}
